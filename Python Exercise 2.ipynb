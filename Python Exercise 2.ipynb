{
 "cells": [
  {
   "cell_type": "code",
   "execution_count": 1,
   "metadata": {},
   "outputs": [
    {
     "data": {
      "text/plain": [
       "'C:\\\\Users\\\\IBS'"
      ]
     },
     "execution_count": 1,
     "metadata": {},
     "output_type": "execute_result"
    }
   ],
   "source": [
    "pwd"
   ]
  },
  {
   "cell_type": "code",
   "execution_count": 2,
   "metadata": {},
   "outputs": [],
   "source": [
    "import os\n",
    "os.chdir('C:\\\\Users\\\\IBS\\\\Documents\\\\Jessica')"
   ]
  },
  {
   "cell_type": "code",
   "execution_count": 3,
   "metadata": {},
   "outputs": [
    {
     "data": {
      "text/plain": [
       "'C:\\\\Users\\\\IBS\\\\Documents\\\\Jessica'"
      ]
     },
     "execution_count": 3,
     "metadata": {},
     "output_type": "execute_result"
    }
   ],
   "source": [
    "pwd"
   ]
  },
  {
   "cell_type": "code",
   "execution_count": 5,
   "metadata": {},
   "outputs": [
    {
     "name": "stdout",
     "output_type": "stream",
     "text": [
      "ABC\n",
      "Zap\n"
     ]
    }
   ],
   "source": [
    "#Q1\n",
    "def fred():\n",
    "    print(\"Zap\")\n",
    "def jane():\n",
    "    print(\"ABC\")\n",
    "jane()\n",
    "fred()"
   ]
  },
  {
   "cell_type": "code",
   "execution_count": 7,
   "metadata": {},
   "outputs": [
    {
     "name": "stdout",
     "output_type": "stream",
     "text": [
      "Normal working hrs\n",
      "40\n",
      "Enter Hours\n",
      "45\n",
      "Enter rate\n",
      "10\n",
      "475.0\n"
     ]
    }
   ],
   "source": [
    "#Q2 a\n",
    "x = float(input(\"Normal working hrs\\n\"))\n",
    "Hours = float(input(\"Enter Hours\\n\"))\n",
    "Rate = float(input(\"Enter rate\\n\"))\n",
    "\n",
    "if Hours<=x:\n",
    "    print(Hours*Rate)\n",
    "else:\n",
    "    print(x*Rate+(Hours-x)*1.5*Rate)"
   ]
  },
  {
   "cell_type": "code",
   "execution_count": 8,
   "metadata": {},
   "outputs": [
    {
     "name": "stdout",
     "output_type": "stream",
     "text": [
      "Normal working hrs\n",
      "40\n",
      "Enter Hours\n",
      "45\n",
      "Enter rate\n",
      "10\n",
      "475.0\n"
     ]
    }
   ],
   "source": [
    "#Q2 b\n",
    "x = input(\"Normal working hrs\\n\")\n",
    "Hours = input(\"Enter Hours\\n\")\n",
    "Rate = input(\"Enter rate\\n\")\n",
    "\n",
    "try:\n",
    "    y=float(x)\n",
    "    h=float(Hours)\n",
    "    r=float(Rate)\n",
    "    print(y*r+(h-y)*1.5*r)\n",
    "except:\n",
    "    print(\"Enter a number\")"
   ]
  },
  {
   "cell_type": "code",
   "execution_count": 11,
   "metadata": {},
   "outputs": [
    {
     "name": "stdout",
     "output_type": "stream",
     "text": [
      "Enter Your Score\n",
      "0.6\n",
      "D\n",
      "Do Better next time\n"
     ]
    }
   ],
   "source": [
    "#Q3\n",
    "Score=input(\"Enter Your Score\\n\")\n",
    "\n",
    "try:\n",
    "    s=float(Score)\n",
    "    if s<0:\n",
    "        print(\"Out of range\")\n",
    "    elif s>1:\n",
    "        print(\"Out of range\")\n",
    "    elif s>=0.9:\n",
    "        print(\"A\")\n",
    "        print(\"Bravo, you are a genius\")\n",
    "    elif s>=0.8:\n",
    "        print(\"B\")\n",
    "        print(\"Well Done\")\n",
    "    elif s>=0.7:\n",
    "        print(\"C\")\n",
    "        print(\"Not Bad\")\n",
    "    elif s>=0.6:\n",
    "        print(\"D\")\n",
    "        print(\"Do Better next time\")\n",
    "    else:\n",
    "        print(\"F\")\n",
    "        print(\"You really need to work hard\")\n",
    "except:\n",
    "    print(\"Enter a number\")\n"
   ]
  },
  {
   "cell_type": "code",
   "execution_count": null,
   "metadata": {},
   "outputs": [],
   "source": []
  }
 ],
 "metadata": {
  "kernelspec": {
   "display_name": "Python 3",
   "language": "python",
   "name": "python3"
  },
  "language_info": {
   "codemirror_mode": {
    "name": "ipython",
    "version": 3
   },
   "file_extension": ".py",
   "mimetype": "text/x-python",
   "name": "python",
   "nbconvert_exporter": "python",
   "pygments_lexer": "ipython3",
   "version": "3.7.0"
  }
 },
 "nbformat": 4,
 "nbformat_minor": 2
}
