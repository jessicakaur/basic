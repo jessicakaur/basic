{
 "cells": [
  {
   "cell_type": "code",
   "execution_count": 6,
   "metadata": {},
   "outputs": [
    {
     "name": "stdout",
     "output_type": "stream",
     "text": [
      "7\n",
      "9\n",
      "10\n",
      "Total sum is 26\n"
     ]
    }
   ],
   "source": [
    "total_sum=0\n",
    "a=int(input())\n",
    "while a!=0:\n",
    "    total_sum+=a\n",
    "    if total_sum>=21:\n",
    "        print(\"Total sum is\",total_sum)\n",
    "        break\n",
    "    a=int(input())\n",
    "else:\n",
    "    print(\"Total sum is less than 21 and is equal to\",total_sum,\".\")"
   ]
  },
  {
   "cell_type": "markdown",
   "metadata": {},
   "source": [
    "Definite Loop"
   ]
  },
  {
   "cell_type": "code",
   "execution_count": 5,
   "metadata": {},
   "outputs": [
    {
     "name": "stdout",
     "output_type": "stream",
     "text": [
      "Happy New Year: Ashutosh\n",
      "Done!\n",
      "Happy New Year: Ankita\n",
      "Done!\n",
      "Happy New Year: Vijet\n",
      "Done!\n",
      "Happy New Year: Namit\n",
      "Done!\n"
     ]
    }
   ],
   "source": [
    "friends=[\"Ashutosh\",\"Ankita\",\"Vijet\",\"Namit\"]\n",
    "for friend in friends:\n",
    "    print(\"Happy New Year:\", friend)\n",
    "    print(\"Done!\")"
   ]
  },
  {
   "cell_type": "markdown",
   "metadata": {},
   "source": [
    "Counting and Summing loops"
   ]
  },
  {
   "cell_type": "code",
   "execution_count": 12,
   "metadata": {},
   "outputs": [
    {
     "name": "stdout",
     "output_type": "stream",
     "text": [
      "Count: 1\n",
      "Count: 2\n",
      "Count: 3\n",
      "Count: 4\n",
      "Count: 5\n",
      "Count: 6\n",
      "Count: 7\n",
      "Count: 8\n"
     ]
    }
   ],
   "source": [
    "count=0\n",
    "for itervar in [3,41,12,9,74,15,87,27]:\n",
    "    count=count+1\n",
    "    print(\"Count:\",count)"
   ]
  },
  {
   "cell_type": "code",
   "execution_count": 15,
   "metadata": {},
   "outputs": [
    {
     "name": "stdout",
     "output_type": "stream",
     "text": [
      "Total: 3\n",
      "Total: 44\n",
      "Total: 56\n",
      "Total: 65\n",
      "Total: 139\n",
      "Total: 154\n",
      "Total: 190\n",
      "Total: 200\n"
     ]
    }
   ],
   "source": [
    "total=0\n",
    "for itervar in [3,41,12,9,74,15,36,10]:\n",
    "    total=total+itervar\n",
    "    print(\"Total:\",total)"
   ]
  },
  {
   "cell_type": "code",
   "execution_count": 19,
   "metadata": {},
   "outputs": [
    {
     "name": "stdout",
     "output_type": "stream",
     "text": [
      "The sum is 6\n",
      "The sum is 11\n",
      "The sum is 14\n",
      "The sum is 22\n",
      "The sum is 26\n",
      "The sum is 28\n",
      "The sum is 33\n",
      "The sum is 37\n",
      "The sum is 48\n",
      "The sum is 50\n"
     ]
    }
   ],
   "source": [
    "#Program to find the sum of all numbers stored in a list\n",
    "#List of numbers\n",
    "numbers=[6,5,3,8,4,2,5,4,11,2]\n",
    "#Variable to store the sum\n",
    "sum=0\n",
    "#Iterate over the list\n",
    "for val in numbers:\n",
    "    sum=sum+val\n",
    "    print(\"The sum is\",sum)"
   ]
  },
  {
   "cell_type": "code",
   "execution_count": 29,
   "metadata": {},
   "outputs": [
    {
     "name": "stdout",
     "output_type": "stream",
     "text": [
      "I like pop\n",
      "I like rock\n",
      "I like jazz\n"
     ]
    }
   ],
   "source": [
    "#Program to iterate through list using Indexing\n",
    "genre=[\"pop\",\"rock\",\"jazz\"]\n",
    "#Iterate over the list using index\n",
    "for i in range(len(genre)):\n",
    "    print(\"I like\",genre[i])"
   ]
  },
  {
   "cell_type": "code",
   "execution_count": 32,
   "metadata": {},
   "outputs": [
    {
     "name": "stdout",
     "output_type": "stream",
     "text": [
      "Enter lower range:20\n",
      "Enter upper range:100\n",
      "Prime numbers between 20 and 100 are:\n",
      "23\n",
      "29\n",
      "31\n",
      "37\n",
      "41\n",
      "43\n",
      "47\n",
      "53\n",
      "59\n",
      "61\n",
      "67\n",
      "71\n",
      "73\n",
      "79\n",
      "83\n",
      "89\n",
      "97\n"
     ]
    }
   ],
   "source": [
    "#Python program to display all the prime numbers within an interval\n",
    "lower=900\n",
    "upper=1000\n",
    "#Take input from user\n",
    "lower=int(input(\"Enter lower range:\"))\n",
    "upper=int(input(\"Enter upper range:\"))\n",
    "print(\"Prime numbers between\",lower,\"and\",upper,\"are:\")\n",
    "for num in range(lower,upper+1):\n",
    "    if num>1:\n",
    "        for i in range(2,num):\n",
    "            if (num%i)==0:\n",
    "                break\n",
    "        else:\n",
    "            print(num)"
   ]
  },
  {
   "cell_type": "code",
   "execution_count": 43,
   "metadata": {},
   "outputs": [
    {
     "name": "stdout",
     "output_type": "stream",
     "text": [
      "Enter a string:Hello!!! How you doin!!$$%%^^\n",
      "Hello How you doin\n"
     ]
    }
   ],
   "source": [
    "#To remove punctuations from a string\n",
    "#Define punctuation\n",
    "punctuations=\"!()-[]{}:;\\<>.,/?@#$%^*~_\"\n",
    "my_str=\"Hello!!!, he said --- and went.\"\n",
    "#To take input from user\n",
    "my_str=input(\"Enter a string:\")\n",
    "#Remove punctuation from string\n",
    "no_punct=\"\"\n",
    "for char in my_str:\n",
    "    if char not in punctuations:\n",
    "        no_punct=no_punct+char\n",
    "print(no_punct)"
   ]
  },
  {
   "cell_type": "code",
   "execution_count": 44,
   "metadata": {},
   "outputs": [
    {
     "name": "stdout",
     "output_type": "stream",
     "text": [
      "Enter a string:Hello this Is an Example With cased leters\n",
      "The sorted words are:\n",
      "Example\n",
      "Hello\n",
      "Is\n",
      "With\n",
      "an\n",
      "cased\n",
      "leters\n",
      "this\n"
     ]
    }
   ],
   "source": [
    "#Program to sort alphabetically the words from a string provided by the user\n",
    "my_str=\"Hello this Is an Example With cased leters\"\n",
    "#Take input\n",
    "my_str=input(\"Enter a string:\")\n",
    "#Breakdown the string into a list of words\n",
    "words=my_str.split()\n",
    "#Sort the list\n",
    "words.sort()\n",
    "#Display the sorted words\n",
    "print(\"The sorted words are:\")\n",
    "for word in words:\n",
    "    print(word)"
   ]
  },
  {
   "cell_type": "code",
   "execution_count": 54,
   "metadata": {},
   "outputs": [
    {
     "data": {
      "text/plain": [
       "24"
      ]
     },
     "execution_count": 54,
     "metadata": {},
     "output_type": "execute_result"
    }
   ],
   "source": [
    "#recursive:Function calling itself\n",
    "#Recursive function to find the factorial of a number\n",
    "def calc_factorial(x):\n",
    "    \"\"\"This is a recursive function to find the factorial of an integer\"\"\"\n",
    "    if x==1:\n",
    "        return 1\n",
    "    else:\n",
    "        return (x*calc_factorial(x-1))\n",
    "    num=4\n",
    "    print(\"The factorial of\",num,\"is\",calc_factorail(num))\n",
    "calc_factorial(4)"
   ]
  },
  {
   "cell_type": "code",
   "execution_count": 56,
   "metadata": {},
   "outputs": [
    {
     "name": "stdout",
     "output_type": "stream",
     "text": [
      "[4, 6, 8, 12]\n"
     ]
    }
   ],
   "source": [
    "#Anonymous Functions or Lambda Functions\n",
    "#Program to filter out only the even items from the list\n",
    "my_list=[1,5,4,6,8,11,3,12]\n",
    "new_list=list(filter(lambda x:(x%2==0),my_list))\n",
    "print(new_list)"
   ]
  },
  {
   "cell_type": "code",
   "execution_count": null,
   "metadata": {},
   "outputs": [],
   "source": []
  }
 ],
 "metadata": {
  "kernelspec": {
   "display_name": "Python 3",
   "language": "python",
   "name": "python3"
  },
  "language_info": {
   "codemirror_mode": {
    "name": "ipython",
    "version": 3
   },
   "file_extension": ".py",
   "mimetype": "text/x-python",
   "name": "python",
   "nbconvert_exporter": "python",
   "pygments_lexer": "ipython3",
   "version": "3.7.0"
  }
 },
 "nbformat": 4,
 "nbformat_minor": 2
}
