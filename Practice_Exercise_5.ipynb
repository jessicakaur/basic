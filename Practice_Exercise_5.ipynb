{
  "nbformat": 4,
  "nbformat_minor": 0,
  "metadata": {
    "colab": {
      "name": "Practice Exercise 5.ipynb",
      "version": "0.3.2",
      "provenance": [],
      "include_colab_link": true
    },
    "kernelspec": {
      "name": "python3",
      "display_name": "Python 3"
    }
  },
  "cells": [
    {
      "cell_type": "markdown",
      "metadata": {
        "id": "view-in-github",
        "colab_type": "text"
      },
      "source": [
        "<a href=\"https://colab.research.google.com/github/jessicakaur/basic/blob/master/Practice_Exercise_5.ipynb\" target=\"_parent\"><img src=\"https://colab.research.google.com/assets/colab-badge.svg\" alt=\"Open In Colab\"/></a>"
      ]
    },
    {
      "metadata": {
        "id": "jrysEdusBVI9",
        "colab_type": "text"
      },
      "cell_type": "markdown",
      "source": [
        "PRACTICE EXCERCISE 5"
      ]
    },
    {
      "metadata": {
        "id": "Fkl1k1LPBTou",
        "colab_type": "code",
        "colab": {
          "base_uri": "https://localhost:8080/",
          "height": 289
        },
        "outputId": "09e9351f-d2dc-46b1-c5e9-b625c73aae7f"
      },
      "cell_type": "code",
      "source": [
        "#Q1\n",
        "import pandas as pd\n",
        "import numpy as np\n",
        "df = pd.DataFrame(np.random.randint(10, 40, 60).reshape(-1, 4))\n",
        "#Print row sum\n",
        "rowsums=df.apply(np.sum,axis=1)\n",
        "rowsums"
      ],
      "execution_count": 3,
      "outputs": [
        {
          "output_type": "execute_result",
          "data": {
            "text/plain": [
              "0      95\n",
              "1     105\n",
              "2     107\n",
              "3      92\n",
              "4      79\n",
              "5     105\n",
              "6     111\n",
              "7      91\n",
              "8      55\n",
              "9     108\n",
              "10     73\n",
              "11    107\n",
              "12    110\n",
              "13    115\n",
              "14    103\n",
              "dtype: int64"
            ]
          },
          "metadata": {
            "tags": []
          },
          "execution_count": 3
        }
      ]
    },
    {
      "metadata": {
        "id": "NouRnIU8BYIz",
        "colab_type": "code",
        "colab": {
          "base_uri": "https://localhost:8080/",
          "height": 111
        },
        "outputId": "18e6d40a-8f48-44de-a767-3c7386b9860a"
      },
      "cell_type": "code",
      "source": [
        "#last two rows with row sum greater than 100\n",
        "last_two_rows=df.iloc[np.where(rowsums>100)[0][-2:],:]\n",
        "last_two_rows"
      ],
      "execution_count": 4,
      "outputs": [
        {
          "output_type": "execute_result",
          "data": {
            "text/html": [
              "<div>\n",
              "<style scoped>\n",
              "    .dataframe tbody tr th:only-of-type {\n",
              "        vertical-align: middle;\n",
              "    }\n",
              "\n",
              "    .dataframe tbody tr th {\n",
              "        vertical-align: top;\n",
              "    }\n",
              "\n",
              "    .dataframe thead th {\n",
              "        text-align: right;\n",
              "    }\n",
              "</style>\n",
              "<table border=\"1\" class=\"dataframe\">\n",
              "  <thead>\n",
              "    <tr style=\"text-align: right;\">\n",
              "      <th></th>\n",
              "      <th>0</th>\n",
              "      <th>1</th>\n",
              "      <th>2</th>\n",
              "      <th>3</th>\n",
              "    </tr>\n",
              "  </thead>\n",
              "  <tbody>\n",
              "    <tr>\n",
              "      <th>13</th>\n",
              "      <td>28</td>\n",
              "      <td>39</td>\n",
              "      <td>32</td>\n",
              "      <td>16</td>\n",
              "    </tr>\n",
              "    <tr>\n",
              "      <th>14</th>\n",
              "      <td>31</td>\n",
              "      <td>32</td>\n",
              "      <td>11</td>\n",
              "      <td>29</td>\n",
              "    </tr>\n",
              "  </tbody>\n",
              "</table>\n",
              "</div>"
            ],
            "text/plain": [
              "     0   1   2   3\n",
              "13  28  39  32  16\n",
              "14  31  32  11  29"
            ]
          },
          "metadata": {
            "tags": []
          },
          "execution_count": 4
        }
      ]
    },
    {
      "metadata": {
        "id": "g1MQYxrjCIYi",
        "colab_type": "code",
        "colab": {
          "base_uri": "https://localhost:8080/",
          "height": 34
        },
        "outputId": "2c93c246-197c-4aa1-97fd-804a8fdb554e"
      },
      "cell_type": "code",
      "source": [
        "#Q2\n",
        "ser = pd.Series(np.logspace(-2, 2, 30))\n",
        "def cap_outliers(ser,low_perc,high_perc):\n",
        "  low,high=ser.quantile([low_perc,high_perc])\n",
        "  print(low_perc,\"%ile:\",low,\"|\",high_perc,\"%ile:\",high)\n",
        "  ser[ser<low]=low\n",
        "  ser[ser>high]=high\n",
        "  return(ser)\n",
        "capped_ser=cap_outliers(ser,.05,.95)"
      ],
      "execution_count": 6,
      "outputs": [
        {
          "output_type": "stream",
          "text": [
            "0.05 %ile: 0.016049294076965887 | 0.95 %ile: 63.876672220183934\n"
          ],
          "name": "stdout"
        }
      ]
    },
    {
      "metadata": {
        "id": "WjhXwslXDKCf",
        "colab_type": "code",
        "colab": {
          "base_uri": "https://localhost:8080/",
          "height": 119
        },
        "outputId": "84569bf7-058d-46e7-9ff6-cb3a887cc7f7"
      },
      "cell_type": "code",
      "source": [
        "#Q3\n",
        "df = pd.DataFrame(np.arange(25).reshape(5, -1))\n",
        "def swap_rows(df,i1,i2):\n",
        "  a,b=df.iloc[i1,:].copy(),df.iloc[i2,:].copy()\n",
        "  df.iloc[i1,:],df.iloc[i2,:]=b,a\n",
        "  return df\n",
        "print(swap_rows(df,1,2))"
      ],
      "execution_count": 9,
      "outputs": [
        {
          "output_type": "stream",
          "text": [
            "    0   1   2   3   4\n",
            "0   0   1   2   3   4\n",
            "1  10  11  12  13  14\n",
            "2   5   6   7   8   9\n",
            "3  15  16  17  18  19\n",
            "4  20  21  22  23  24\n"
          ],
          "name": "stdout"
        }
      ]
    },
    {
      "metadata": {
        "id": "4EwmAzzWE3MQ",
        "colab_type": "code",
        "colab": {}
      },
      "cell_type": "code",
      "source": [
        ""
      ],
      "execution_count": 0,
      "outputs": []
    }
  ]
}