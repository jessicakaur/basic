{
 "cells": [
  {
   "cell_type": "markdown",
   "metadata": {},
   "source": [
    "PYTHON EXERCISE 3"
   ]
  },
  {
   "cell_type": "code",
   "execution_count": 15,
   "metadata": {},
   "outputs": [
    {
     "name": "stdout",
     "output_type": "stream",
     "text": [
      "Enter a number:4\n",
      "Enter a number:t\n",
      "Invalid Input\n",
      "Enter a number:8\n",
      "Enter a number:done\n",
      "12.0 2 6.0\n"
     ]
    }
   ],
   "source": [
    "count=0\n",
    "total=0\n",
    "largest=None\n",
    "smallest=None\n",
    "\n",
    "while True:\n",
    "    input_num=input(\"Enter a number:\")\n",
    "    if input_num==\"str\":\n",
    "        count=count\n",
    "    if input_num==\"done\":\n",
    "        break\n",
    "    try:\n",
    "        number=float(input_num)\n",
    "        count=count+1\n",
    "        total=total+number\n",
    "        average=total/count\n",
    "    except:\n",
    "        print(\"Invalid Input\")\n",
    "print(total,count,average)"
   ]
  },
  {
   "cell_type": "code",
   "execution_count": 16,
   "metadata": {},
   "outputs": [
    {
     "name": "stdout",
     "output_type": "stream",
     "text": [
      "Enter a number:2\n",
      "Enter a number:10\n",
      "Enter a number:5\n",
      "Enter a number:dfgdf\n",
      "Invalid Input\n",
      "Enter a number:done\n",
      "17.0 3 10.0 2.0\n"
     ]
    }
   ],
   "source": [
    "count=0\n",
    "total=0\n",
    "largest=None\n",
    "smallest=None\n",
    "\n",
    "while True:\n",
    "    input1=input(\"Enter a number:\")\n",
    "    if input1==\"done\":\n",
    "        break\n",
    "    try:\n",
    "        number=float(input1)\n",
    "        count=count+1\n",
    "        total=total+number\n",
    "    except:\n",
    "        print(\"Invalid Input\")\n",
    "    if largest is None or number>largest:\n",
    "        largest=number\n",
    "    if smallest is None or number<smallest:\n",
    "        smallest=number\n",
    "    \n",
    "\n",
    "print(total,count,largest,smallest)"
   ]
  },
  {
   "cell_type": "markdown",
   "metadata": {},
   "source": [
    "STRING"
   ]
  },
  {
   "cell_type": "code",
   "execution_count": 17,
   "metadata": {},
   "outputs": [
    {
     "name": "stdout",
     "output_type": "stream",
     "text": [
      "{'y': 1, 'a': 1, 'h': 1, 'o': 3, '.': 1, 'c': 1, 'm': 1}\n"
     ]
    }
   ],
   "source": [
    "#Write a Python function to count the number of characters in 'yahoo.com'\n",
    "def char_frequency(str1):\n",
    "    dict={}\n",
    "    for n in str1:\n",
    "        keys=dict.keys()\n",
    "        if n in keys:\n",
    "            dict[n]+=1\n",
    "        else:\n",
    "            dict[n]=1\n",
    "    return dict\n",
    "print(char_frequency('yahoo.com'))"
   ]
  },
  {
   "cell_type": "code",
   "execution_count": 21,
   "metadata": {},
   "outputs": [
    {
     "name": "stdout",
     "output_type": "stream",
     "text": [
      "xyc,abz\n"
     ]
    }
   ],
   "source": [
    "#Write a Python program to get a single string from two given strings, \n",
    "#seperated by space and swap the first two characters of wach string\n",
    "def chars_mix_up(a,b):\n",
    "    new_a=b[:2]+a[2:]\n",
    "    new_b=a[:2]+b[2:]\n",
    "    return new_a+','+new_b\n",
    "print(chars_mix_up('abc','xyz'))"
   ]
  },
  {
   "cell_type": "code",
   "execution_count": 34,
   "metadata": {},
   "outputs": [
    {
     "name": "stdout",
     "output_type": "stream",
     "text": [
      "ab\n",
      "abcing\n",
      "strly\n"
     ]
    }
   ],
   "source": [
    "#Write a Python to put 'ing' at the end of a string(length should be at least 3). \n",
    "#If ing is already added, put 'ly'.\n",
    "#If string length is less than 3, keep it unchanges.\n",
    "\n",
    "def add_string(str1):\n",
    "    length=len(str1)\n",
    "    if length>2:\n",
    "        if str1[-3:]==\"ing\":\n",
    "            str1=str1[:length-3]\n",
    "            str1+=\"ly\"\n",
    "        else:\n",
    "            str1+=\"ing\"\n",
    "    return str1\n",
    "print(add_string(\"ab\"))\n",
    "print(add_string(\"abc\"))\n",
    "print(add_string(\"string\"))"
   ]
  },
  {
   "cell_type": "code",
   "execution_count": 46,
   "metadata": {},
   "outputs": [
    {
     "name": "stdout",
     "output_type": "stream",
     "text": [
      "The lyrics is good!\n",
      "The lyrics is poor!\n"
     ]
    }
   ],
   "source": [
    "#Write a Python program to find the first appearance of the substring \"not\" and \"poor\"\n",
    "#If \"not\" follows \"poor\" replace it with \"good\"\n",
    "\n",
    "def not_poor(str1):\n",
    "    snot=str1.find(\"not\")\n",
    "    spoor=str1.find(\"poor\")\n",
    "    if spoor>snot and snot>0 and spoor>0:\n",
    "        str1=str1.replace(str1[snot:(spoor+4)],\"good\")\n",
    "        return str1\n",
    "    else:\n",
    "        return str1\n",
    "print(not_poor(\"The lyrics is not that poor!\"))\n",
    "print(not_poor(\"The lyrics is poor!\"))"
   ]
  },
  {
   "cell_type": "code",
   "execution_count": null,
   "metadata": {},
   "outputs": [],
   "source": []
  }
 ],
 "metadata": {
  "kernelspec": {
   "display_name": "Python 3",
   "language": "python",
   "name": "python3"
  },
  "language_info": {
   "codemirror_mode": {
    "name": "ipython",
    "version": 3
   },
   "file_extension": ".py",
   "mimetype": "text/x-python",
   "name": "python",
   "nbconvert_exporter": "python",
   "pygments_lexer": "ipython3",
   "version": "3.7.0"
  }
 },
 "nbformat": 4,
 "nbformat_minor": 2
}
